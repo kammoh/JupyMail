{
 "cells": [
  {
   "cell_type": "markdown",
   "metadata": {},
   "source": [
    "# JupyMail\n",
    "\n",
    "Written by: [Mohajerani, Kamyar](mailto:mmohajer@gmu.edu)\n",
    "    \n",
    "Please feel free to check out the latest version and share bugs, issues, feature requests, or PRs on the [github page](https://github.com/kammoh/JupyMail).\n",
    "\n",
    "This Jupyter notebook was written to allow one to import data from an excel spreadsheet, similar to MailMerge in Microsoft Office.  Given that it is written in python, there is much more flexibility in what you would like to do, if you are accomplished in Python.\n",
    "\n",
    "In this basic version an excel spreadsheet is imported that contains all information needed in the email (the email address is the only mandatory field).  In addition, an email template is read into the notebook along with the name of the file to be used as an attachment (if desired).\n",
    "\n",
    "To customize this mailer for your use, all that you need to do is make the appropriate changes in the _Settings Cell_.  More specifically, you will need to:\n",
    "\n",
    "1. Specify the name of the excel spreadsheet file in `excel_file` and define what the fields are that will be used in your template in `excel_columns`. In this version, there are four columns, `First Name`, `Last Name`, `Email`, and `Degree`.  The  `Email` field is __mandatory__, and it can appear in any column. You can change the contents, the order, and number of columns in `excel_columns`.\n",
    "2. Provide the name of the email template that will be mailed in `message_template_file'.\n",
    "3. Give the name of the file to be used as an attachment (if any) in `attachment_file'.  If no attachment, put _None_.\n",
    "3. Provide your outlook `username`, such as dr_python@gmu.edu, along with `your_name` such as _Monson Hayes_ that will be used in the FROM line of the email, and the email SUBJECT line in `email_subject`.\n",
    "\n"
   ]
  },
  {
   "cell_type": "code",
   "execution_count": 1,
   "metadata": {},
   "outputs": [
    {
     "name": "stdout",
     "output_type": "stream",
     "text": [
      "3.7.3 (default, Mar 27 2019, 16:54:48) \n",
      "[Clang 4.0.1 (tags/RELEASE_401/final)]\n"
     ]
    }
   ],
   "source": [
    "import sys\n",
    "print(sys.version)"
   ]
  },
  {
   "cell_type": "markdown",
   "metadata": {},
   "source": [
    "## Dependencies"
   ]
  },
  {
   "cell_type": "code",
   "execution_count": 2,
   "metadata": {},
   "outputs": [
    {
     "name": "stdout",
     "output_type": "stream",
     "text": [
      "Requirement already up-to-date: openpyxl in /anaconda3/lib/python3.7/site-packages (3.0.3)\n",
      "Requirement already satisfied, skipping upgrade: et-xmlfile in /anaconda3/lib/python3.7/site-packages (from openpyxl) (1.0.1)\n",
      "Requirement already satisfied, skipping upgrade: jdcal in /anaconda3/lib/python3.7/site-packages (from openpyxl) (1.4)\n",
      "Note: you may need to restart the kernel to use updated packages.\n",
      "Requirement already up-to-date: html2text in /anaconda3/lib/python3.7/site-packages (2020.1.16)\n",
      "Note: you may need to restart the kernel to use updated packages.\n"
     ]
    }
   ],
   "source": [
    "#install openpyxl package\n",
    "%pip install -U openpyxl\n",
    "\n",
    "#install html2text package\n",
    "%pip install -U html2text\n",
    "\n",
    "# Note: if this didn't work, please try with adding '--user' switch \n",
    "#    or, try installing the dependency packages from command line\n",
    "#    using pip or your Python package manager (e.g. conda)\n",
    "\n",
    "\n",
    "# Note: You probably need to restart the kernel at this point!"
   ]
  },
  {
   "cell_type": "markdown",
   "metadata": {},
   "source": [
    "## Settings"
   ]
  },
  {
   "cell_type": "code",
   "execution_count": 56,
   "metadata": {},
   "outputs": [],
   "source": [
    "\n",
    "username = 'mmohajer@masonlive.gmu.edu' # Email account e.g. hayes@gmu.edu\n",
    "\n",
    "your_email = username\n",
    "your_name = \"Monson Hayes\" # change this to your name\n",
    "\n",
    "\n",
    "# All files need to be present in the script directory, otherwise specify the full path\n",
    "excel_file ='ExcelEmailList.xlsx'\n",
    "# Available columns in the Excel file can be substituted into the message_template.\n",
    "# 'EMAIL' field is mandatory\n",
    "excel_columns = ['FIRST_NAME', 'LAST_NAME', 'EMAIL', 'DEGREE']\n",
    "\n",
    "message_template_file = 'message_template.html' # Change this to the html file for your email message template\n",
    "                                                # A file with '.html' extension creates an HTML message\n",
    "                                                #   accompanied with a simplified Markdown version of the same text\n",
    "                                                #   for email clients that do not support HTML.\n",
    "                                                # A file with '.txt' extension creates a plain-text message\n",
    "\n",
    "email_subject = \"Emailer\"  # Put what you want to be in the email subject line here.\n",
    "\n",
    "attachment_file = 'attachment.pdf'  # Here you put in the name of an attachment, or put None.       "
   ]
  },
  {
   "cell_type": "markdown",
   "metadata": {},
   "source": [
    "## Recipients"
   ]
  },
  {
   "cell_type": "code",
   "execution_count": 49,
   "metadata": {},
   "outputs": [
    {
     "data": {
      "text/html": [
       "<table><tr><th>FIRST_NAME</th><th>LAST_NAME</th><th>EMAIL</th><th>DEGREE</th></tr><tr><td>kamyar</td><td>mohajerani</td><td>kammoh@gmail.com</td><td>Computer Engineering</td></tr><tr><td>Kamy</td><td>m</td><td>kamyar@ieee.org</td><td>Computer Engineering</td></tr><tr><td>Kamyar</td><td>Mohajerani</td><td>mmohajer@gmu.edu</td><td>Computer Engineering</td></tr></table>"
      ],
      "text/plain": [
       "<IPython.core.display.HTML object>"
      ]
     },
     "metadata": {},
     "output_type": "display_data"
    }
   ],
   "source": [
    "from openpyxl import load_workbook\n",
    "from openpyxl.cell.read_only import EmptyCell\n",
    "from IPython.display import HTML, display\n",
    "\n",
    "def read_contacts(filename, columns, sheet=None):\n",
    "    wb = load_workbook(filename=filename, read_only=True)\n",
    "\n",
    "    # grab the requested sheet or active worksheet if none given\n",
    "    ws = wn[sheet] if sheet else wb.active\n",
    "    \n",
    "    return [dict(zip(columns, [cell.value for cell in row[0: len(columns)] if cell.value])) for row in ws.rows if not any(isinstance(cell, EmptyCell) for cell in row)]\n",
    "\n",
    "\n",
    "contacts = read_contacts(excel_file, excel_columns)\n",
    "\n",
    "display(HTML(\n",
    "   '<table><tr><th>{}</th></tr><tr>{}</tr></table>'.format(\n",
    "       '</th><th>'.join(excel_columns),\n",
    "       '</tr><tr>'.join(\n",
    "           '<td>{}</td>'.format('</td><td>'.join(str(_) for _ in contact.values())) for contact in contacts)\n",
    "       )\n",
    "))"
   ]
  },
  {
   "cell_type": "markdown",
   "metadata": {},
   "source": [
    "## Template"
   ]
  },
  {
   "cell_type": "code",
   "execution_count": 57,
   "metadata": {},
   "outputs": [
    {
     "data": {
      "text/markdown": [
       "<body style=\"margin: 0; padding: 0;\">\n",
       "\n",
       "<p> Dear Kamyar, </p>\n",
       "\n",
       "<p> I am very excited to hear that you have been admitted to George Mason University and are interested in pursuing a BS degree in Computer Engineering.  Our department has many outstanding faculty who are working on some amazing research projects and, at the same time, are winning the highest awards that the University and professional organizations have to offer for excellence in teaching.</p>\n",
       "\n",
       "<p>Whether you want to get involved in projects that involve swarming blimps, robotic fish, machine learning, hardware security, 5G networks, satellite communications, the power grid, or robotics, Electrical and Computer Engineering is the place to be at Mason. I have attached a copy of the Fall 2019 ECE Newsletter that you may enjoy reading.</p>\n",
       "\t\n",
       "<p>We all know and appreciate what a difficult and important decision it is to select the right University for you to earn your Bachelor's degree.  Wherever you decide to go, it will be the right decision if you take advantage of everything the University has to offer.  And we have a lot to offer at Mason.</p>\n",
       "\t\n",
       "<p>We are here to help you with your decision, and if you matriculate to Mason, we have outstanding advisors who will help advise you and guide you through the program. If you have any questions, please free to send an email to \n",
       "\t<a href=\"mailto:ece@gmu.edu\"> ece@gmu.edu</a>.  \n",
       "\tIf you would like to talk to someone in person, let us know and we will give you a phone call.  \n",
       "\tPlease fee free to contact me directly if you wish.</p>\n",
       " \n",
       "<p>We look forward to welcoming you to ECE at Mason in the Fall.</p>\n",
       "\t\n",
       "\n",
       "Sincerely,<br><br>\n",
       "<em>Monson H. Hayes<br>\n",
       "\tProfessor and Chair<br>\n",
       "\tDepartment of Electrical and Computer Engineering</em>\n",
       "</body>\n"
      ],
      "text/plain": [
       "<IPython.core.display.Markdown object>"
      ]
     },
     "execution_count": 57,
     "metadata": {},
     "output_type": "execute_result"
    }
   ],
   "source": [
    "from string import Template\n",
    "import getpass\n",
    "from IPython.display import Markdown as md\n",
    "\n",
    "def read_template(filename):\n",
    "    with open(filename, 'r', encoding='utf-8') as template_file:\n",
    "        template_file_content = template_file.read()\n",
    "    return Template(template_file_content)\n",
    "\n",
    "\n",
    "message_template = read_template(message_template_file)\n",
    "\n",
    "def format_contact(contact):\n",
    "    contact['FIRST_NAME'] = contact['FIRST_NAME'].title()\n",
    "    contact['LAST_NAME'] = contact['LAST_NAME'].title()\n",
    "    return contact\n",
    "\n",
    "\n",
    "# This should print a preview of the template, substituting fields using the first row of the Excel file\n",
    "md(message_template.substitute(format_contact(contacts[0])))"
   ]
  },
  {
   "cell_type": "markdown",
   "metadata": {},
   "source": [
    "## Messages"
   ]
  },
  {
   "cell_type": "code",
   "execution_count": 58,
   "metadata": {},
   "outputs": [],
   "source": [
    "from email.mime.multipart import MIMEMultipart\n",
    "from email.mime.text import MIMEText\n",
    "from email import encoders\n",
    "from email.mime.base import MIMEBase\n",
    "import html2text\n",
    "\n",
    "def attachment_part(filename):\n",
    "    with open(filename, \"rb\") as attachment:\n",
    "        # must be application/octet-stream\n",
    "        part = MIMEBase(\"application\", \"octet-stream\")\n",
    "        part.set_payload(attachment.read())   \n",
    "    encoders.encode_base64(part)\n",
    "    part.add_header(\n",
    "        \"Content-Disposition\",\n",
    "        f\"attachment; filename= {filename}\",\n",
    "    )\n",
    "    return part\n",
    "\n",
    "def create_messages(contacts, message_template, attachment):\n",
    "    messages = []\n",
    "    for contact in contacts:\n",
    "        msg = MIMEMultipart('alternative')\n",
    "\n",
    "        contact = format_contact(contact)\n",
    "\n",
    "        recipient_name = f\"{contact['FIRST_NAME']} {contact['LAST_NAME']}\"\n",
    "        recipient_email = contact['EMAIL']\n",
    "        \n",
    "        msg['From'] = f\"{your_name} <{your_email}>\"\n",
    "        msg['To'] = f\"{recipient_name} <{recipient_email}>\"\n",
    "        msg['Subject'] = email_subject\n",
    "        \n",
    "        if message_template_file.endswith('.html') or message_template_file.endswith('.htm'):\n",
    "            html_message = message_template.substitute(contact)\n",
    "            text_maker = html2text.HTML2Text()\n",
    "            text_maker.ignore_links = True\n",
    "            text_maker.ignore_images = True\n",
    "            text_maker.bypass_tables = True\n",
    "            text_maker.ignore_emphasis = True\n",
    "            plain_message = text_maker.handle(html_message)\n",
    "            msg.attach(MIMEText(plain_message, 'plain'))\n",
    "            msg.attach(MIMEText(html_message, 'html'))\n",
    "        else:\n",
    "            plain_message = message_template.substitute(contact)\n",
    "            msg.attach(MIMEText(plain_message, 'plain'))\n",
    "            \n",
    "        if attachment_file:\n",
    "            msg.attach(attachment_part(attachment_file))\n",
    "        \n",
    "        messages.append(msg)\n",
    "    return messages\n",
    "\n",
    "messages = create_messages(contacts, message_template, attachment_file)"
   ]
  },
  {
   "cell_type": "markdown",
   "metadata": {},
   "source": [
    "## View messages (optional)"
   ]
  },
  {
   "cell_type": "code",
   "execution_count": 59,
   "metadata": {},
   "outputs": [
    {
     "name": "stdout",
     "output_type": "stream",
     "text": [
      "multipart/alternative\n",
      "Content-Type: text/plain; charset=\"us-ascii\"\n",
      "MIME-Version: 1.0\n",
      "Content-Transfer-Encoding: 7bit\n",
      "\n",
      "Dear Kamyar,\n",
      "\n",
      "I am very excited to hear that you have been admitted to George Mason\n",
      "University and are interested in pursuing a BS degree in Computer Engineering.\n",
      "Our department has many outstanding faculty who are working on some amazing\n",
      "research projects and, at the same time, are winning the highest awards that\n",
      "the University and professional organizations have to offer for excellence in\n",
      "teaching.\n",
      "\n",
      "Whether you want to get involved in projects that involve swarming blimps,\n",
      "robotic fish, machine learning, hardware security, 5G networks, satellite\n",
      "communications, the power grid, or robotics, Electrical and Computer\n",
      "Engineering is the place to be at Mason. I have attached a copy of the Fall\n",
      "2019 ECE Newsletter that you may enjoy reading.\n",
      "\n",
      "We all know and appreciate what a difficult and important decision it is to\n",
      "select the right University for you to earn your Bachelor's degree. Wherever\n",
      "you decide to go, it will be the right decision if you take advantage of\n",
      "everything the University has to offer. And we have a lot to offer at Mason.\n",
      "\n",
      "We are here to help you with your decision, and if you matriculate to Mason,\n",
      "we have outstanding advisors who will help advise you and guide you through\n",
      "the program. If you have any questions, please free to send an email to\n",
      "ece@gmu.edu. If you would like to talk to someone in person, let us know and\n",
      "we will give you a phone call. Please fee free to contact me directly if you\n",
      "wish.\n",
      "\n",
      "We look forward to welcoming you to ECE at Mason in the Fall.\n",
      "\n",
      "Sincerely,  \n",
      "  \n",
      "Monson H. Hayes  \n",
      "Professor and Chair  \n",
      "Department of Electrical and Computer Engineering\n",
      "\n",
      "\n",
      "Content-Type: text/html; charset=\"us-ascii\"\n",
      "MIME-Version: 1.0\n",
      "Content-Transfer-Encoding: 7bit\n",
      "\n",
      "<body style=\"margin: 0; padding: 0;\">\n",
      "\n",
      "<p> Dear Kamyar, </p>\n",
      "\n",
      "<p> I am very excited to hear that you have been admitted to George Mason University and are interested in pursuing a BS degree in Computer Engineering.  Our department has many outstanding faculty who are working on some amazing research projects and, at the same time, are winning the highest awards that the University and professional organizations have to offer for excellence in teaching.</p>\n",
      "\n",
      "<p>Whether you want to get involved in projects that involve swarming blimps, robotic fish, machine learning, hardware security, 5G networks, satellite communications, the power grid, or robotics, Electrical and Computer Engineering is the place to be at Mason. I have attached a copy of the Fall 2019 ECE Newsletter that you may enjoy reading.</p>\n",
      "\t\n",
      "<p>We all know and appreciate what a difficult and important decision it is to select the right University for you to earn your Bachelor's degree.  Wherever you decide to go, it will be the right decision if you take advantage of everything the University has to offer.  And we have a lot to offer at Mason.</p>\n",
      "\t\n",
      "<p>We are here to help you with your decision, and if you matriculate to Mason, we have outstanding advisors who will help advise you and guide you through the program. If you have any questions, please free to send an email to \n",
      "\t<a href=\"mailto:ece@gmu.edu\"> ece@gmu.edu</a>.  \n",
      "\tIf you would like to talk to someone in person, let us know and we will give you a phone call.  \n",
      "\tPlease fee free to contact me directly if you wish.</p>\n",
      " \n",
      "<p>We look forward to welcoming you to ECE at Mason in the Fall.</p>\n",
      "\t\n",
      "\n",
      "Sincerely,<br><br>\n",
      "<em>Monson H. Hayes<br>\n",
      "\tProfessor and Chair<br>\n",
      "\tDepartment of Electrical and Computer Engineering</em>\n",
      "</body>\n",
      "\n",
      "application/octet-stream\n",
      "multipart/alternative\n",
      "Content-Type: text/plain; charset=\"us-ascii\"\n",
      "MIME-Version: 1.0\n",
      "Content-Transfer-Encoding: 7bit\n",
      "\n",
      "Dear Kamy,\n",
      "\n",
      "I am very excited to hear that you have been admitted to George Mason\n",
      "University and are interested in pursuing a BS degree in Computer Engineering.\n",
      "Our department has many outstanding faculty who are working on some amazing\n",
      "research projects and, at the same time, are winning the highest awards that\n",
      "the University and professional organizations have to offer for excellence in\n",
      "teaching.\n",
      "\n",
      "Whether you want to get involved in projects that involve swarming blimps,\n",
      "robotic fish, machine learning, hardware security, 5G networks, satellite\n",
      "communications, the power grid, or robotics, Electrical and Computer\n",
      "Engineering is the place to be at Mason. I have attached a copy of the Fall\n",
      "2019 ECE Newsletter that you may enjoy reading.\n",
      "\n",
      "We all know and appreciate what a difficult and important decision it is to\n",
      "select the right University for you to earn your Bachelor's degree. Wherever\n",
      "you decide to go, it will be the right decision if you take advantage of\n",
      "everything the University has to offer. And we have a lot to offer at Mason.\n",
      "\n",
      "We are here to help you with your decision, and if you matriculate to Mason,\n",
      "we have outstanding advisors who will help advise you and guide you through\n",
      "the program. If you have any questions, please free to send an email to\n",
      "ece@gmu.edu. If you would like to talk to someone in person, let us know and\n",
      "we will give you a phone call. Please fee free to contact me directly if you\n",
      "wish.\n",
      "\n",
      "We look forward to welcoming you to ECE at Mason in the Fall.\n",
      "\n",
      "Sincerely,  \n",
      "  \n",
      "Monson H. Hayes  \n",
      "Professor and Chair  \n",
      "Department of Electrical and Computer Engineering\n",
      "\n",
      "\n",
      "Content-Type: text/html; charset=\"us-ascii\"\n",
      "MIME-Version: 1.0\n",
      "Content-Transfer-Encoding: 7bit\n",
      "\n",
      "<body style=\"margin: 0; padding: 0;\">\n",
      "\n",
      "<p> Dear Kamy, </p>\n",
      "\n",
      "<p> I am very excited to hear that you have been admitted to George Mason University and are interested in pursuing a BS degree in Computer Engineering.  Our department has many outstanding faculty who are working on some amazing research projects and, at the same time, are winning the highest awards that the University and professional organizations have to offer for excellence in teaching.</p>\n",
      "\n",
      "<p>Whether you want to get involved in projects that involve swarming blimps, robotic fish, machine learning, hardware security, 5G networks, satellite communications, the power grid, or robotics, Electrical and Computer Engineering is the place to be at Mason. I have attached a copy of the Fall 2019 ECE Newsletter that you may enjoy reading.</p>\n",
      "\t\n",
      "<p>We all know and appreciate what a difficult and important decision it is to select the right University for you to earn your Bachelor's degree.  Wherever you decide to go, it will be the right decision if you take advantage of everything the University has to offer.  And we have a lot to offer at Mason.</p>\n",
      "\t\n",
      "<p>We are here to help you with your decision, and if you matriculate to Mason, we have outstanding advisors who will help advise you and guide you through the program. If you have any questions, please free to send an email to \n",
      "\t<a href=\"mailto:ece@gmu.edu\"> ece@gmu.edu</a>.  \n",
      "\tIf you would like to talk to someone in person, let us know and we will give you a phone call.  \n",
      "\tPlease fee free to contact me directly if you wish.</p>\n",
      " \n",
      "<p>We look forward to welcoming you to ECE at Mason in the Fall.</p>\n",
      "\t\n",
      "\n",
      "Sincerely,<br><br>\n",
      "<em>Monson H. Hayes<br>\n",
      "\tProfessor and Chair<br>\n",
      "\tDepartment of Electrical and Computer Engineering</em>\n",
      "</body>\n",
      "\n",
      "application/octet-stream\n",
      "multipart/alternative\n",
      "Content-Type: text/plain; charset=\"us-ascii\"\n",
      "MIME-Version: 1.0\n",
      "Content-Transfer-Encoding: 7bit\n",
      "\n",
      "Dear Kamyar,\n",
      "\n",
      "I am very excited to hear that you have been admitted to George Mason\n",
      "University and are interested in pursuing a BS degree in Computer Engineering.\n",
      "Our department has many outstanding faculty who are working on some amazing\n",
      "research projects and, at the same time, are winning the highest awards that\n",
      "the University and professional organizations have to offer for excellence in\n",
      "teaching.\n",
      "\n",
      "Whether you want to get involved in projects that involve swarming blimps,\n",
      "robotic fish, machine learning, hardware security, 5G networks, satellite\n",
      "communications, the power grid, or robotics, Electrical and Computer\n",
      "Engineering is the place to be at Mason. I have attached a copy of the Fall\n",
      "2019 ECE Newsletter that you may enjoy reading.\n",
      "\n",
      "We all know and appreciate what a difficult and important decision it is to\n",
      "select the right University for you to earn your Bachelor's degree. Wherever\n",
      "you decide to go, it will be the right decision if you take advantage of\n",
      "everything the University has to offer. And we have a lot to offer at Mason.\n",
      "\n",
      "We are here to help you with your decision, and if you matriculate to Mason,\n",
      "we have outstanding advisors who will help advise you and guide you through\n",
      "the program. If you have any questions, please free to send an email to\n",
      "ece@gmu.edu. If you would like to talk to someone in person, let us know and\n",
      "we will give you a phone call. Please fee free to contact me directly if you\n",
      "wish.\n",
      "\n",
      "We look forward to welcoming you to ECE at Mason in the Fall.\n",
      "\n",
      "Sincerely,  \n",
      "  \n",
      "Monson H. Hayes  \n",
      "Professor and Chair  \n",
      "Department of Electrical and Computer Engineering\n",
      "\n",
      "\n",
      "Content-Type: text/html; charset=\"us-ascii\"\n",
      "MIME-Version: 1.0\n",
      "Content-Transfer-Encoding: 7bit\n",
      "\n",
      "<body style=\"margin: 0; padding: 0;\">\n",
      "\n",
      "<p> Dear Kamyar, </p>\n",
      "\n",
      "<p> I am very excited to hear that you have been admitted to George Mason University and are interested in pursuing a BS degree in Computer Engineering.  Our department has many outstanding faculty who are working on some amazing research projects and, at the same time, are winning the highest awards that the University and professional organizations have to offer for excellence in teaching.</p>\n",
      "\n",
      "<p>Whether you want to get involved in projects that involve swarming blimps, robotic fish, machine learning, hardware security, 5G networks, satellite communications, the power grid, or robotics, Electrical and Computer Engineering is the place to be at Mason. I have attached a copy of the Fall 2019 ECE Newsletter that you may enjoy reading.</p>\n",
      "\t\n",
      "<p>We all know and appreciate what a difficult and important decision it is to select the right University for you to earn your Bachelor's degree.  Wherever you decide to go, it will be the right decision if you take advantage of everything the University has to offer.  And we have a lot to offer at Mason.</p>\n",
      "\t\n",
      "<p>We are here to help you with your decision, and if you matriculate to Mason, we have outstanding advisors who will help advise you and guide you through the program. If you have any questions, please free to send an email to \n",
      "\t<a href=\"mailto:ece@gmu.edu\"> ece@gmu.edu</a>.  \n",
      "\tIf you would like to talk to someone in person, let us know and we will give you a phone call.  \n",
      "\tPlease fee free to contact me directly if you wish.</p>\n",
      " \n",
      "<p>We look forward to welcoming you to ECE at Mason in the Fall.</p>\n",
      "\t\n",
      "\n",
      "Sincerely,<br><br>\n",
      "<em>Monson H. Hayes<br>\n",
      "\tProfessor and Chair<br>\n",
      "\tDepartment of Electrical and Computer Engineering</em>\n",
      "</body>\n",
      "\n"
     ]
    },
    {
     "name": "stdout",
     "output_type": "stream",
     "text": [
      "application/octet-stream\n"
     ]
    }
   ],
   "source": [
    "import time\n",
    "\n",
    "for msg in messages:\n",
    "    for part in msg.walk():\n",
    "        content_type = part.get_content_maintype()\n",
    "        \n",
    "        # skip multipart containers and attachments\n",
    "        if content_type != 'multipart' and content_type != 'application': \n",
    "            print(part)\n",
    "        else:\n",
    "            print(part['Content-Type'])\n",
    "        time.sleep(0.2) # limit rate"
   ]
  },
  {
   "cell_type": "markdown",
   "metadata": {},
   "source": [
    "## Password"
   ]
  },
  {
   "cell_type": "code",
   "execution_count": 54,
   "metadata": {},
   "outputs": [
    {
     "name": "stdout",
     "output_type": "stream",
     "text": [
      "Password········\n"
     ]
    }
   ],
   "source": [
    "# we don't save the password\n",
    "password = getpass.getpass('Password')\n"
   ]
  },
  {
   "cell_type": "markdown",
   "metadata": {},
   "source": [
    "## Send"
   ]
  },
  {
   "cell_type": "code",
   "execution_count": 55,
   "metadata": {},
   "outputs": [
    {
     "name": "stdout",
     "output_type": "stream",
     "text": [
      "sending 3 emails...\n",
      "Sent message to Kamyar Mohajerani <kammoh@gmail.com>\n",
      "Sent message to Kamy M <kamyar@ieee.org>\n",
      "Sent message to Kamyar Mohajerani <mmohajer@gmu.edu>\n",
      "All emails successfully sent!\n"
     ]
    }
   ],
   "source": [
    "import smtplib\n",
    "import ssl, time\n",
    "from smtplib import SMTPException, SMTPServerDisconnected\n",
    "\n",
    "send_delay = 3 # limit sending rate, Microsoft Office accounds have a maximum rate of 30 messages per minute\n",
    "\n",
    "print(f\"sending {len(messages)} emails...\")\n",
    "try:\n",
    "    with smtplib.SMTP(\"smtp.office365.com\", 587) as server:\n",
    "        context = ssl.create_default_context()\n",
    "        server.starttls(context=context)\n",
    "        server.login(username, password)\n",
    "\n",
    "        for msg in messages:\n",
    "            try:\n",
    "                server.send_message(msg)\n",
    "            except SMTPServerDisconnected as e:\n",
    "                print(f\"SMTP disconnected. Reconnecting...\")\n",
    "                server.set_debuglevel(1)\n",
    "                server.starttls(context=context)\n",
    "                server.login(username, password)\n",
    "                server.send_message(msg)\n",
    "                server.set_debuglevel(0)\n",
    "\n",
    "            print(f\"Email sent to {msg.get('To')}\")\n",
    "            time.sleep(send_delay)\n",
    "\n",
    "        print('All emails successfully sent!')\n",
    "        server.quit()\n",
    "except SMTPException as e:\n",
    "    print(f\"[ERROR] SMPT server connection error: {e}\")\n",
    "except ValueError as e:\n",
    "    print(f\"[ERROR] ValueError: {e}\")\n",
    "    raise\n",
    "except Exception as e:\n",
    "    print(f\"[ERROR] exception received: {e}\")\n",
    "    raise\n",
    "except:\n",
    "    print(\"Unexpected error:\", sys.exc_info()[0])\n",
    "    raise"
   ]
  }
 ],
 "metadata": {
  "kernelspec": {
   "display_name": "Python 3",
   "language": "python",
   "name": "python3"
  },
  "language_info": {
   "codemirror_mode": {
    "name": "ipython",
    "version": 3
   },
   "file_extension": ".py",
   "mimetype": "text/x-python",
   "name": "python",
   "nbconvert_exporter": "python",
   "pygments_lexer": "ipython3",
   "version": "3.8.2"
  }
 },
 "nbformat": 4,
 "nbformat_minor": 2
}
